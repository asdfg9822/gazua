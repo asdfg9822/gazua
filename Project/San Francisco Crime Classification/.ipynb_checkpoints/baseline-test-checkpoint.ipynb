{
 "cells": [
  {
   "cell_type": "markdown",
   "metadata": {},
   "source": [
    "# [San Francisco Crime Classification](https://www.kaggle.com/c/sf-crime)\n",
    "\n",
    "### 사용되는 파일\n",
    "* **_input/test.csv_** - Test Set\n",
    "* **_input/train.csv_** - Train Set\n",
    "* **_input/sampleSubmission.csv_** - Kaggle 제출용\n",
    "\n",
    "이 데이터셋은 SFPD 범죄 사건 리포팅 시스템에서 유래된 사건이 포함되어 있다. 이 데이터 범위는 2003/1/1부터 2015/5/13까지이다. Test Set과 Training Set은 매주 회전합니다.(데이터가 격주로 존재한다는 말인듯) 1,3,5,7주는 테스트셋이고 2,4,6,8은 Training Set입니다.\n",
    "\n",
    "### Data fields\n",
    "* **_Dates_** - 범죄사건의 timestamp\n",
    "* **_Category_** - 범죄사건의 카테고리(only train.csv). 이것은 예측해야하는 목표 변수(종속 변수)\n",
    "* **_Descript_** - 범죄사건의 자세한 설명 (only train.csv)\n",
    "* **_DayOfWeek_** - 요일\n",
    "* **_PdDistrict_** - 관할 경찰서\n",
    "* **_Resolution_** - 범죄사건이 어떻게 해결됐는지 (only train.csv)\n",
    "* **_Address_** - 범죄 사건이 발생한 주소\n",
    "* **_X_** - 경도\n",
    "* **_Y_** - 위도"
   ]
  },
  {
   "cell_type": "code",
   "execution_count": 1,
   "metadata": {
    "collapsed": true
   },
   "outputs": [],
   "source": [
    "import pandas as pd"
   ]
  },
  {
   "cell_type": "code",
   "execution_count": 2,
   "metadata": {},
   "outputs": [
    {
     "name": "stdout",
     "output_type": "stream",
     "text": [
      "(878049, 9)\n"
     ]
    },
    {
     "data": {
      "text/html": [
       "<div>\n",
       "<style>\n",
       "    .dataframe thead tr:only-child th {\n",
       "        text-align: right;\n",
       "    }\n",
       "\n",
       "    .dataframe thead th {\n",
       "        text-align: left;\n",
       "    }\n",
       "\n",
       "    .dataframe tbody tr th {\n",
       "        vertical-align: top;\n",
       "    }\n",
       "</style>\n",
       "<table border=\"1\" class=\"dataframe\">\n",
       "  <thead>\n",
       "    <tr style=\"text-align: right;\">\n",
       "      <th></th>\n",
       "      <th>Dates</th>\n",
       "      <th>Category</th>\n",
       "      <th>Descript</th>\n",
       "      <th>DayOfWeek</th>\n",
       "      <th>PdDistrict</th>\n",
       "      <th>Resolution</th>\n",
       "      <th>Address</th>\n",
       "      <th>X</th>\n",
       "      <th>Y</th>\n",
       "    </tr>\n",
       "  </thead>\n",
       "  <tbody>\n",
       "    <tr>\n",
       "      <th>0</th>\n",
       "      <td>2015-05-13 23:53:00</td>\n",
       "      <td>WARRANTS</td>\n",
       "      <td>WARRANT ARREST</td>\n",
       "      <td>Wednesday</td>\n",
       "      <td>NORTHERN</td>\n",
       "      <td>ARREST, BOOKED</td>\n",
       "      <td>OAK ST / LAGUNA ST</td>\n",
       "      <td>-122.425892</td>\n",
       "      <td>37.774599</td>\n",
       "    </tr>\n",
       "    <tr>\n",
       "      <th>1</th>\n",
       "      <td>2015-05-13 23:53:00</td>\n",
       "      <td>OTHER OFFENSES</td>\n",
       "      <td>TRAFFIC VIOLATION ARREST</td>\n",
       "      <td>Wednesday</td>\n",
       "      <td>NORTHERN</td>\n",
       "      <td>ARREST, BOOKED</td>\n",
       "      <td>OAK ST / LAGUNA ST</td>\n",
       "      <td>-122.425892</td>\n",
       "      <td>37.774599</td>\n",
       "    </tr>\n",
       "    <tr>\n",
       "      <th>2</th>\n",
       "      <td>2015-05-13 23:33:00</td>\n",
       "      <td>OTHER OFFENSES</td>\n",
       "      <td>TRAFFIC VIOLATION ARREST</td>\n",
       "      <td>Wednesday</td>\n",
       "      <td>NORTHERN</td>\n",
       "      <td>ARREST, BOOKED</td>\n",
       "      <td>VANNESS AV / GREENWICH ST</td>\n",
       "      <td>-122.424363</td>\n",
       "      <td>37.800414</td>\n",
       "    </tr>\n",
       "    <tr>\n",
       "      <th>3</th>\n",
       "      <td>2015-05-13 23:30:00</td>\n",
       "      <td>LARCENY/THEFT</td>\n",
       "      <td>GRAND THEFT FROM LOCKED AUTO</td>\n",
       "      <td>Wednesday</td>\n",
       "      <td>NORTHERN</td>\n",
       "      <td>NONE</td>\n",
       "      <td>1500 Block of LOMBARD ST</td>\n",
       "      <td>-122.426995</td>\n",
       "      <td>37.800873</td>\n",
       "    </tr>\n",
       "    <tr>\n",
       "      <th>4</th>\n",
       "      <td>2015-05-13 23:30:00</td>\n",
       "      <td>LARCENY/THEFT</td>\n",
       "      <td>GRAND THEFT FROM LOCKED AUTO</td>\n",
       "      <td>Wednesday</td>\n",
       "      <td>PARK</td>\n",
       "      <td>NONE</td>\n",
       "      <td>100 Block of BRODERICK ST</td>\n",
       "      <td>-122.438738</td>\n",
       "      <td>37.771541</td>\n",
       "    </tr>\n",
       "  </tbody>\n",
       "</table>\n",
       "</div>"
      ],
      "text/plain": [
       "                Dates        Category                      Descript  \\\n",
       "0 2015-05-13 23:53:00        WARRANTS                WARRANT ARREST   \n",
       "1 2015-05-13 23:53:00  OTHER OFFENSES      TRAFFIC VIOLATION ARREST   \n",
       "2 2015-05-13 23:33:00  OTHER OFFENSES      TRAFFIC VIOLATION ARREST   \n",
       "3 2015-05-13 23:30:00   LARCENY/THEFT  GRAND THEFT FROM LOCKED AUTO   \n",
       "4 2015-05-13 23:30:00   LARCENY/THEFT  GRAND THEFT FROM LOCKED AUTO   \n",
       "\n",
       "   DayOfWeek PdDistrict      Resolution                    Address  \\\n",
       "0  Wednesday   NORTHERN  ARREST, BOOKED         OAK ST / LAGUNA ST   \n",
       "1  Wednesday   NORTHERN  ARREST, BOOKED         OAK ST / LAGUNA ST   \n",
       "2  Wednesday   NORTHERN  ARREST, BOOKED  VANNESS AV / GREENWICH ST   \n",
       "3  Wednesday   NORTHERN            NONE   1500 Block of LOMBARD ST   \n",
       "4  Wednesday       PARK            NONE  100 Block of BRODERICK ST   \n",
       "\n",
       "            X          Y  \n",
       "0 -122.425892  37.774599  \n",
       "1 -122.425892  37.774599  \n",
       "2 -122.424363  37.800414  \n",
       "3 -122.426995  37.800873  \n",
       "4 -122.438738  37.771541  "
      ]
     },
     "execution_count": 2,
     "metadata": {},
     "output_type": "execute_result"
    }
   ],
   "source": [
    "train = pd.read_csv(\"input/train.csv\", parse_dates=[\"Dates\"])\n",
    "print(train.shape)\n",
    "train.head()"
   ]
  },
  {
   "cell_type": "code",
   "execution_count": 4,
   "metadata": {
    "collapsed": true
   },
   "outputs": [],
   "source": [
    "import seaborn as sns\n",
    "import matplotlib.pyplot as plt\n",
    "%matplotlib inline"
   ]
  },
  {
   "cell_type": "code",
   "execution_count": 6,
   "metadata": {},
   "outputs": [
    {
     "data": {
      "text/plain": [
       "[Text(0,0,'NORTHERN'),\n",
       " Text(0,0,'PARK'),\n",
       " Text(0,0,'INGLESIDE'),\n",
       " Text(0,0,'BAYVIEW'),\n",
       " Text(0,0,'RICHMOND'),\n",
       " Text(0,0,'CENTRAL'),\n",
       " Text(0,0,'TARAVAL'),\n",
       " Text(0,0,'TENDERLOIN'),\n",
       " Text(0,0,'MISSION'),\n",
       " Text(0,0,'SOUTHERN')]"
      ]
     },
     "execution_count": 6,
     "metadata": {},
     "output_type": "execute_result"
    },
    {
     "data": {
      "image/png": "[encoded data removed]",
      "text/plain": [
       "<matplotlib.figure.Figure at 0x10e72a470>"
      ]
     },
     "metadata": {},
     "output_type": "display_data"
    }
   ],
   "source": [
    "# figure, ax1 = plt.subplots(nrows=1, ncols=1)\n",
    "# figure.set_size_inches(18, 6)\n",
    "\n",
    "# g = sns.countplot(data=train, x=\"PdDistrict\", ax=ax1)\n",
    "# g.set_xticklabels(g.get_xticklabels(), rotation=90)"
   ]
  },
  {
   "cell_type": "code",
   "execution_count": 3,
   "metadata": {},
   "outputs": [
    {
     "data": {
      "text/plain": [
       "[Text(0,0,'WARRANTS'),\n",
       " Text(0,0,'OTHER OFFENSES'),\n",
       " Text(0,0,'LARCENY/THEFT'),\n",
       " Text(0,0,'VEHICLE THEFT'),\n",
       " Text(0,0,'VANDALISM'),\n",
       " Text(0,0,'NON-CRIMINAL'),\n",
       " Text(0,0,'ROBBERY'),\n",
       " Text(0,0,'ASSAULT'),\n",
       " Text(0,0,'WEAPON LAWS'),\n",
       " Text(0,0,'BURGLARY'),\n",
       " Text(0,0,'SUSPICIOUS OCC'),\n",
       " Text(0,0,'DRUNKENNESS'),\n",
       " Text(0,0,'FORGERY/COUNTERFEITING'),\n",
       " Text(0,0,'DRUG/NARCOTIC'),\n",
       " Text(0,0,'STOLEN PROPERTY'),\n",
       " Text(0,0,'SECONDARY CODES'),\n",
       " Text(0,0,'TRESPASS'),\n",
       " Text(0,0,'MISSING PERSON'),\n",
       " Text(0,0,'FRAUD'),\n",
       " Text(0,0,'KIDNAPPING'),\n",
       " Text(0,0,'RUNAWAY'),\n",
       " Text(0,0,'DRIVING UNDER THE INFLUENCE'),\n",
       " Text(0,0,'SEX OFFENSES FORCIBLE'),\n",
       " Text(0,0,'PROSTITUTION'),\n",
       " Text(0,0,'DISORDERLY CONDUCT'),\n",
       " Text(0,0,'ARSON'),\n",
       " Text(0,0,'FAMILY OFFENSES'),\n",
       " Text(0,0,'LIQUOR LAWS'),\n",
       " Text(0,0,'BRIBERY'),\n",
       " Text(0,0,'EMBEZZLEMENT'),\n",
       " Text(0,0,'SUICIDE'),\n",
       " Text(0,0,'LOITERING'),\n",
       " Text(0,0,'SEX OFFENSES NON FORCIBLE'),\n",
       " Text(0,0,'EXTORTION'),\n",
       " Text(0,0,'GAMBLING'),\n",
       " Text(0,0,'BAD CHECKS'),\n",
       " Text(0,0,'TREA'),\n",
       " Text(0,0,'RECOVERED VEHICLE'),\n",
       " Text(0,0,'PORNOGRAPHY/OBSCENE MAT')]"
      ]
     },
     "execution_count": 3,
     "metadata": {},
     "output_type": "execute_result"
    },
    {
     "data": {
      "image/png": "[encoded data removed]",
      "text/plain": [
       "<matplotlib.figure.Figure at 0x118e9f1d0>"
      ]
     },
     "metadata": {},
     "output_type": "display_data"
    }
   ],
   "source": [
    "\n",
    "\n",
    "\n",
    "# figure, ax1 = plt.subplots(nrows=1, ncols=1)\n",
    "# figure.set_size_inches(18, 6)\n",
    "\n",
    "# g = sns.countplot(data=train, x=\"Category\", ax=ax1)\n",
    "# g.set_xticklabels(g.get_xticklabels(), rotation=90)"
   ]
  },
  {
   "cell_type": "code",
   "execution_count": 4,
   "metadata": {},
   "outputs": [
    {
     "name": "stdout",
     "output_type": "stream",
     "text": [
      "(884262, 7)\n"
     ]
    },
    {
     "data": {
      "text/html": [
       "<div>\n",
       "<style>\n",
       "    .dataframe thead tr:only-child th {\n",
       "        text-align: right;\n",
       "    }\n",
       "\n",
       "    .dataframe thead th {\n",
       "        text-align: left;\n",
       "    }\n",
       "\n",
       "    .dataframe tbody tr th {\n",
       "        vertical-align: top;\n",
       "    }\n",
       "</style>\n",
       "<table border=\"1\" class=\"dataframe\">\n",
       "  <thead>\n",
       "    <tr style=\"text-align: right;\">\n",
       "      <th></th>\n",
       "      <th>Id</th>\n",
       "      <th>Dates</th>\n",
       "      <th>DayOfWeek</th>\n",
       "      <th>PdDistrict</th>\n",
       "      <th>Address</th>\n",
       "      <th>X</th>\n",
       "      <th>Y</th>\n",
       "    </tr>\n",
       "  </thead>\n",
       "  <tbody>\n",
       "    <tr>\n",
       "      <th>0</th>\n",
       "      <td>0</td>\n",
       "      <td>2015-05-10 23:59:00</td>\n",
       "      <td>Sunday</td>\n",
       "      <td>BAYVIEW</td>\n",
       "      <td>2000 Block of THOMAS AV</td>\n",
       "      <td>-122.399588</td>\n",
       "      <td>37.735051</td>\n",
       "    </tr>\n",
       "    <tr>\n",
       "      <th>1</th>\n",
       "      <td>1</td>\n",
       "      <td>2015-05-10 23:51:00</td>\n",
       "      <td>Sunday</td>\n",
       "      <td>BAYVIEW</td>\n",
       "      <td>3RD ST / REVERE AV</td>\n",
       "      <td>-122.391523</td>\n",
       "      <td>37.732432</td>\n",
       "    </tr>\n",
       "    <tr>\n",
       "      <th>2</th>\n",
       "      <td>2</td>\n",
       "      <td>2015-05-10 23:50:00</td>\n",
       "      <td>Sunday</td>\n",
       "      <td>NORTHERN</td>\n",
       "      <td>2000 Block of GOUGH ST</td>\n",
       "      <td>-122.426002</td>\n",
       "      <td>37.792212</td>\n",
       "    </tr>\n",
       "    <tr>\n",
       "      <th>3</th>\n",
       "      <td>3</td>\n",
       "      <td>2015-05-10 23:45:00</td>\n",
       "      <td>Sunday</td>\n",
       "      <td>INGLESIDE</td>\n",
       "      <td>4700 Block of MISSION ST</td>\n",
       "      <td>-122.437394</td>\n",
       "      <td>37.721412</td>\n",
       "    </tr>\n",
       "    <tr>\n",
       "      <th>4</th>\n",
       "      <td>4</td>\n",
       "      <td>2015-05-10 23:45:00</td>\n",
       "      <td>Sunday</td>\n",
       "      <td>INGLESIDE</td>\n",
       "      <td>4700 Block of MISSION ST</td>\n",
       "      <td>-122.437394</td>\n",
       "      <td>37.721412</td>\n",
       "    </tr>\n",
       "  </tbody>\n",
       "</table>\n",
       "</div>"
      ],
      "text/plain": [
       "   Id               Dates DayOfWeek PdDistrict                   Address  \\\n",
       "0   0 2015-05-10 23:59:00    Sunday    BAYVIEW   2000 Block of THOMAS AV   \n",
       "1   1 2015-05-10 23:51:00    Sunday    BAYVIEW        3RD ST / REVERE AV   \n",
       "2   2 2015-05-10 23:50:00    Sunday   NORTHERN    2000 Block of GOUGH ST   \n",
       "3   3 2015-05-10 23:45:00    Sunday  INGLESIDE  4700 Block of MISSION ST   \n",
       "4   4 2015-05-10 23:45:00    Sunday  INGLESIDE  4700 Block of MISSION ST   \n",
       "\n",
       "            X          Y  \n",
       "0 -122.399588  37.735051  \n",
       "1 -122.391523  37.732432  \n",
       "2 -122.426002  37.792212  \n",
       "3 -122.437394  37.721412  \n",
       "4 -122.437394  37.721412  "
      ]
     },
     "execution_count": 4,
     "metadata": {},
     "output_type": "execute_result"
    }
   ],
   "source": [
    "test = pd.read_csv(\"input/test.csv\", parse_dates=[\"Dates\"])\n",
    "print(test.shape)\n",
    "test.head()"
   ]
  },
  {
   "cell_type": "code",
   "execution_count": null,
   "metadata": {
    "collapsed": true
   },
   "outputs": [],
   "source": [
    "del train[\"Resolution\"]\n",
    "del train[\"DayOfWeek\"]\n",
    "del train[\"Descript\"]\n",
    "del train[\"X\"]\n",
    "del train[\"Y\"]\n",
    "\n",
    "del test[\"DayOfWeek\"]\n",
    "del test[\"X\"]\n",
    "del test[\"Y\"]"
   ]
  },
  {
   "cell_type": "code",
   "execution_count": null,
   "metadata": {
    "collapsed": true
   },
   "outputs": [],
   "source": [
    "train[\"Dates-hour\"] = train[\"Dates\"].dt.hour\n",
    "test[\"Dates-hour\"] = test[\"Dates\"].dt.hour\n",
    "\n",
    "del train[\"Dates\"]\n",
    "del test[\"Dates\"]\n",
    "\n",
    "# train[\"Dates-hour\"].head()\n",
    "ax = sns.regplot(x=\"Dates-hour\", y=\"Category\", data=train, fit_reg=False)"
   ]
  },
  {
   "cell_type": "code",
   "execution_count": null,
   "metadata": {
    "collapsed": true
   },
   "outputs": [],
   "source": [
    "figure, ax1 = plt.subplots(nrows=1, ncols=1)\n",
    "figure.set_size_inches(18, 6)\n",
    "\n",
    "g = sns.countplot(data=train, x=\"Dates-hour\", ax=ax1)\n",
    "g.set_xticklabels(g.get_xticklabels(), rotation=90)"
   ]
  },
  {
   "cell_type": "code",
   "execution_count": null,
   "metadata": {
    "collapsed": true
   },
   "outputs": [],
   "source": [
    "# one hot encoding\n",
    "train[\"PdDistrict_NOR\"] = train[\"PdDistrict\"] == \"NORTHERN\"\n",
    "train[\"PdDistrict_PAR\"] = train[\"PdDistrict\"] == \"PARK\"\n",
    "train[\"PdDistrict_ING\"] = train[\"PdDistrict\"] == \"INGLESIDE\"\n",
    "train[\"PdDistrict_BAY\"] = train[\"PdDistrict\"] == \"BAYVIEW\"\n",
    "train[\"PdDistrict_RIC\"] = train[\"PdDistrict\"] == \"RICHMOND\"\n",
    "train[\"PdDistrict_CEN\"] = train[\"PdDistrict\"] == \"CENTRAL\"\n",
    "train[\"PdDistrict_TAR\"] = train[\"PdDistrict\"] == \"TARAVAL\"\n",
    "train[\"PdDistrict_TEN\"] = train[\"PdDistrict\"] == \"TENDERLOIN\"\n",
    "train[\"PdDistrict_MIS\"] = train[\"PdDistrict\"] == \"MISSION\"\n",
    "train[\"PdDistrict_SOU\"] = train[\"PdDistrict\"] == \"SOUTHERN\"\n",
    "\n",
    "test[\"PdDistrict_NOR\"] = test[\"PdDistrict\"] == \"NORTHERN\"\n",
    "test[\"PdDistrict_PAR\"] = test[\"PdDistrict\"] == \"PARK\"\n",
    "test[\"PdDistrict_ING\"] = test[\"PdDistrict\"] == \"INGLESIDE\"\n",
    "test[\"PdDistrict_BAY\"] = test[\"PdDistrict\"] == \"BAYVIEW\"\n",
    "test[\"PdDistrict_RIC\"] = test[\"PdDistrict\"] == \"RICHMOND\"\n",
    "test[\"PdDistrict_CEN\"] = test[\"PdDistrict\"] == \"CENTRAL\"\n",
    "test[\"PdDistrict_TAR\"] = test[\"PdDistrict\"] == \"TARAVAL\"\n",
    "test[\"PdDistrict_TEN\"] = test[\"PdDistrict\"] == \"TENDERLOIN\"\n",
    "test[\"PdDistrict_MIS\"] = test[\"PdDistrict\"] == \"MISSION\"\n",
    "test[\"PdDistrict_SOU\"] = test[\"PdDistrict\"] == \"SOUTHERN\"\n",
    "\n",
    "del train[\"PdDistrict\"]\n",
    "del test[\"PdDistrict\"]"
   ]
  },
  {
   "cell_type": "code",
   "execution_count": null,
   "metadata": {
    "collapsed": true
   },
   "outputs": [],
   "source": [
    "import re\n",
    "\n",
    "def removeSlashAndNum(address):\n",
    "    return re.sub(\"[^a-zA-Z]\",\" \", address)\n",
    "\n",
    "train[\"Address\"] = train[\"Address\"].apply(removeSlashAndNum)\n",
    "test[\"Address\"] = test[\"Address\"].apply(removeSlashAndNum)"
   ]
  },
  {
   "cell_type": "code",
   "execution_count": null,
   "metadata": {
    "collapsed": true
   },
   "outputs": [],
   "source": [
    "# figure, ax1 = plt.subplots(nrows=1, ncols=1)\n",
    "# figure.set_size_inches(1, 1)\n",
    "\n",
    "# corrmat = train.corr()\n",
    "# sns.heatmap(data=corrmat, vmax=.8, square=True, ax=ax1)"
   ]
  },
  {
   "cell_type": "code",
   "execution_count": null,
   "metadata": {
    "collapsed": true
   },
   "outputs": [],
   "source": [
    "# print(len(train[\"Category\"].unique()))"
   ]
  },
  {
   "cell_type": "code",
   "execution_count": null,
   "metadata": {
    "collapsed": true
   },
   "outputs": [],
   "source": []
  },
  {
   "cell_type": "markdown",
   "metadata": {
    "collapsed": true
   },
   "source": [
    "## Train"
   ]
  },
  {
   "cell_type": "code",
   "execution_count": null,
   "metadata": {
    "collapsed": true
   },
   "outputs": [],
   "source": [
    "X_train = pd.get_dummies(train)\n",
    "\n",
    "print(X_train.shape)\n",
    "X_train.head()"
   ]
  },
  {
   "cell_type": "code",
   "execution_count": null,
   "metadata": {
    "collapsed": true
   },
   "outputs": [],
   "source": [
    "X_test = pd.get_dummies(test)\n",
    "\n",
    "print(X_test.shape)\n",
    "X_test.head()"
   ]
  },
  {
   "cell_type": "code",
   "execution_count": null,
   "metadata": {
    "collapsed": true
   },
   "outputs": [],
   "source": [
    "label_name = \"Category\"\n",
    "\n",
    "y_train = train[label_name]\n",
    "\n",
    "print(y_train.shape)\n",
    "y_train.head()"
   ]
  },
  {
   "cell_type": "code",
   "execution_count": null,
   "metadata": {
    "collapsed": true
   },
   "outputs": [],
   "source": [
    "from sklearn.ensemble import RandomForestClassifier\n",
    "\n",
    "model = RandomForestClassifier(n_jobs=-1)\n",
    "model"
   ]
  },
  {
   "cell_type": "code",
   "execution_count": null,
   "metadata": {
    "collapsed": true
   },
   "outputs": [],
   "source": [
    "from sklearn.model_selection import cross_val_score\n",
    "\n",
    "%time score = cross_val_score(model, X_train, y_train, cv=5, scoring=\"neg_log_loss\").mean()\n",
    "\n",
    "score = -1.0 * score\n",
    "\n",
    "print(\"Score = {0:.5f}\".format(score))"
   ]
  },
  {
   "cell_type": "code",
   "execution_count": null,
   "metadata": {
    "collapsed": true
   },
   "outputs": [],
   "source": [
    "import xgboost as xgb\n",
    "\n",
    "model = xgb.XGBClassifier(n_estimators=15, nthread=4)\n",
    "model"
   ]
  },
  {
   "cell_type": "code",
   "execution_count": null,
   "metadata": {
    "collapsed": true
   },
   "outputs": [],
   "source": [
    "%time score = cross_val_score(model, X_train, y_train, cv=5, scoring=\"neg_log_loss\").mean()\n",
    "\n",
    "score = -1.0 * score\n",
    "\n",
    "print(\"Score = {0:.5f}\".format(score))"
   ]
  },
  {
   "cell_type": "code",
   "execution_count": null,
   "metadata": {
    "collapsed": true
   },
   "outputs": [],
   "source": [
    "model.fit(X_train, y_train)"
   ]
  },
  {
   "cell_type": "code",
   "execution_count": null,
   "metadata": {
    "collapsed": true
   },
   "outputs": [],
   "source": [
    "predictions = model.predict_proba(X_test)\n",
    "\n",
    "print(predictions.shape)\n",
    "predictions"
   ]
  },
  {
   "cell_type": "markdown",
   "metadata": {},
   "source": [
    "## Submit "
   ]
  },
  {
   "cell_type": "code",
   "execution_count": null,
   "metadata": {
    "collapsed": true
   },
   "outputs": [],
   "source": [
    "submission = pd.read_csv(\"input/sampleSubmission.csv\", index_col=\"Id\")\n",
    "\n",
    "print(submission.shape)\n",
    "submission.head()"
   ]
  },
  {
   "cell_type": "code",
   "execution_count": null,
   "metadata": {
    "collapsed": true
   },
   "outputs": [],
   "source": [
    "submission = pd.DataFrame(predictions, index=submission.index, columns=submission.columns)\n",
    "print(submission.shape)\n",
    "submission.head()"
   ]
  },
  {
   "cell_type": "code",
   "execution_count": null,
   "metadata": {
    "collapsed": true
   },
   "outputs": [],
   "source": [
    "submission.to_csv(\"output/baseline-script.csv\")"
   ]
  },
  {
   "cell_type": "code",
   "execution_count": null,
   "metadata": {
    "collapsed": true
   },
   "outputs": [],
   "source": []
  }
 ],
 "metadata": {
  "kernelspec": {
   "display_name": "Python 3",
   "language": "python",
   "name": "python3"
  },
  "language_info": {
   "codemirror_mode": {
    "name": "ipython",
    "version": 3
   },
   "file_extension": ".py",
   "mimetype": "text/x-python",
   "name": "python",
   "nbconvert_exporter": "python",
   "pygments_lexer": "ipython3",
   "version": "3.6.3"
  }
 },
 "nbformat": 4,
 "nbformat_minor": 2
}
