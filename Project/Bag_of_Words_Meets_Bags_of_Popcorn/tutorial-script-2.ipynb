{
 "cells": [
  {
   "cell_type": "markdown",
   "metadata": {},
   "source": [
    "# [Bag of Words Meets Bags of Popcorn](https://www.kaggle.com/c/word2vec-nlp-tutorial)\n",
    "\n",
    "\n",
    "### 사용되는 파일\n",
    "\n",
    "* **labeledTrainData** - 분류된 Training Set. Tab구분자로 되어 있고 컬럼의 헤더를 가진다. ID, Sentiment, Review를 25000건 포함\n",
    "* **testData** - Test Set. Tab구분자이고 25000건의 리뷰 정보를 담고 있음 \n",
    "* **unlabeledTrainData** - 분류되지 않은 확장 Training Set. Id와 Review 50000건을 포함 (Sentiment 없음)\n",
    "* **sampleSubmission** - kaggle 제출용. Comma 구분자로 되어 있음\n",
    "\n",
    "### Data fields\n",
    "* **id** - 각 리뷰의 Unique한 ID\n",
    "* **sentiment** - 리뷰의 정서(평점), 좋은 리뷰는 1 / 나쁜 리뷰는 0\n",
    "* **review** - Review의 텍스트"
   ]
  },
  {
   "cell_type": "markdown",
   "metadata": {},
   "source": [
    "## Reading the Data\n",
    "\n"
   ]
  },
  {
   "cell_type": "code",
   "execution_count": 1,
   "metadata": {},
   "outputs": [
    {
     "name": "stdout",
     "output_type": "stream",
     "text": [
      "Read 25000 labeled train reviews, 25000 labeled test reviews, and 50000 unlabeled reviews\n",
      "\n"
     ]
    }
   ],
   "source": [
    "import pandas as pd\n",
    "\n",
    "# Read data from files \n",
    "train = pd.read_csv( \"input/labeledTrainData.tsv\", header=0, \n",
    " delimiter=\"\\t\", quoting=3 )\n",
    "test = pd.read_csv( \"input/testData.tsv\", header=0, delimiter=\"\\t\", quoting=3 )\n",
    "unlabeled_train = pd.read_csv( \"input/unlabeledTrainData.tsv\", header=0, \n",
    " delimiter=\"\\t\", quoting=3 )\n",
    "\n",
    "# Verify the number of reviews that were read (100,000 in total)\n",
    "print(\"Read %d labeled train reviews, %d labeled test reviews, \" \\\n",
    " \"and %d unlabeled reviews\\n\" % (train[\"review\"].size,  \n",
    " test[\"review\"].size, unlabeled_train[\"review\"].size ))"
   ]
  },
  {
   "cell_type": "markdown",
   "metadata": {},
   "source": [
    "## Preprocessing\n",
    "Tutorial 1과 마찬가지로 Clean Text 작업을 진행\n",
    "\n",
    "다만 Word2Vec에서는 stop words를 제거하지 않는 것이 더 좋다. 그 이유는 알고리즘은 좋은 품질의 word vectors를 생산하기 위해 넓은 전후사정(문맥)을 필요로한다."
   ]
  },
  {
   "cell_type": "code",
   "execution_count": 2,
   "metadata": {
    "collapsed": true
   },
   "outputs": [],
   "source": [
    "from bs4 import BeautifulSoup\n",
    "import re\n",
    "from nltk.corpus import stopwords\n",
    "\n",
    "# remove_stopwords option은 기본으로 False로 한다\n",
    "def review_to_wordlist( review, remove_stopwords=False ):\n",
    "    # Function to convert a document to a sequence of words,\n",
    "    # optionally removing stop words.  Returns a list of words.\n",
    "    #\n",
    "    # 1. Remove HTML\n",
    "    review_text = BeautifulSoup(review).get_text()\n",
    "    #  \n",
    "    # 2. Remove non-letters\n",
    "    review_text = re.sub(\"[^a-zA-Z]\",\" \", review_text)\n",
    "    #\n",
    "    # 3. Convert words to lower case and split them\n",
    "    words = review_text.lower().split()\n",
    "    #\n",
    "    # 4. Optionally remove stop words (false by default)\n",
    "    if remove_stopwords:\n",
    "        stops = set(stopwords.words(\"english\"))\n",
    "        words = [w for w in words if not w in stops]\n",
    "    #\n",
    "    # 5. Return a list of words\n",
    "    return(words)"
   ]
  },
  {
   "cell_type": "markdown",
   "metadata": {},
   "source": [
    "다음으로 입력 포맷을 맞춰야한다. Word2Vec은 하나의 문장이 들어오는 것을 기대한다. \n",
    "\n",
    "영어(한국어도)의 문장은 \"?\", \"!\", \"\"\", \".'로 끝난다. (공백과 대문자로 구분하는 것은 신뢰할 수 없음) \n",
    "\n",
    "NLTK의 punkt tokenizer를 이용하여 문장을 제거한다.(NLTK의 punkt 를 다운필요) "
   ]
  },
  {
   "cell_type": "code",
   "execution_count": 3,
   "metadata": {
    "collapsed": true
   },
   "outputs": [],
   "source": [
    "import nltk.data\n",
    "\n",
    "# Load the punkt tokenizer\n",
    "tokenizer = nltk.data.load('tokenizers/punkt/english.pickle')\n",
    "\n",
    "# 위의 함수에서 tokenizer를 인자로 받도록 변경.\n",
    "# ReDefine a function to split a review into parsed sentences\n",
    "def review_to_sentences( review, tokenizer, remove_stopwords=False ):\n",
    "    # Function to split a review into parsed sentences. Returns a \n",
    "    # list of sentences, where each sentence is a list of words\n",
    "    #\n",
    "    # 1. Use the NLTK tokenizer to split the paragraph into sentences\n",
    "    raw_sentences = tokenizer.tokenize(review.strip())\n",
    "    #\n",
    "    # 2. Loop over each sentence\n",
    "    sentences = []\n",
    "    for raw_sentence in raw_sentences:\n",
    "        # If a sentence is empty, skip it\n",
    "        if len(raw_sentence) > 0:\n",
    "            # Otherwise, call review_to_wordlist to get a list of words\n",
    "            sentences.append( review_to_wordlist( raw_sentence, \\\n",
    "              remove_stopwords ))\n",
    "    #\n",
    "    # Return the list of sentences (each sentence is a list of words,\n",
    "    # so this returns a list of lists\n",
    "    return sentences"
   ]
  },
  {
   "cell_type": "markdown",
   "metadata": {},
   "source": [
    "(오래걸림 주의)"
   ]
  },
  {
   "cell_type": "code",
   "execution_count": 4,
   "metadata": {},
   "outputs": [
    {
     "name": "stdout",
     "output_type": "stream",
     "text": [
      "Parsing sentences from training set\n"
     ]
    },
    {
     "name": "stderr",
     "output_type": "stream",
     "text": [
      "/Users/user/anaconda3/lib/python3.6/site-packages/bs4/__init__.py:181: UserWarning: No parser was explicitly specified, so I'm using the best available HTML parser for this system (\"lxml\"). This usually isn't a problem, but if you run this code on another system, or in a different virtual environment, it may use a different parser and behave differently.\n",
      "\n",
      "The code that caused this warning is on line 193 of the file /Users/user/anaconda3/lib/python3.6/runpy.py. To get rid of this warning, change code that looks like this:\n",
      "\n",
      " BeautifulSoup(YOUR_MARKUP})\n",
      "\n",
      "to this:\n",
      "\n",
      " BeautifulSoup(YOUR_MARKUP, \"lxml\")\n",
      "\n",
      "  markup_type=markup_type))\n",
      "/Users/user/anaconda3/lib/python3.6/site-packages/bs4/__init__.py:219: UserWarning: \"b'.'\" looks like a filename, not markup. You should probably open this file and pass the filehandle into Beautiful Soup.\n",
      "  ' Beautiful Soup.' % markup)\n",
      "/Users/user/anaconda3/lib/python3.6/site-packages/bs4/__init__.py:282: UserWarning: \"http://www.happierabroad.com\"\" looks like a URL. Beautiful Soup is not an HTTP client. You should probably use an HTTP client like requests to get the document behind the URL, and feed that document to Beautiful Soup.\n",
      "  ' that document to Beautiful Soup.' % decoded_markup\n"
     ]
    },
    {
     "name": "stdout",
     "output_type": "stream",
     "text": [
      "Parsing sentences from unlabeled set\n"
     ]
    },
    {
     "name": "stderr",
     "output_type": "stream",
     "text": [
      "/Users/user/anaconda3/lib/python3.6/site-packages/bs4/__init__.py:282: UserWarning: \"http://www.archive.org/details/LovefromaStranger\"\" looks like a URL. Beautiful Soup is not an HTTP client. You should probably use an HTTP client like requests to get the document behind the URL, and feed that document to Beautiful Soup.\n",
      "  ' that document to Beautiful Soup.' % decoded_markup\n",
      "/Users/user/anaconda3/lib/python3.6/site-packages/bs4/__init__.py:282: UserWarning: \"http://www.loosechangeguide.com/LooseChangeGuide.html\"\" looks like a URL. Beautiful Soup is not an HTTP client. You should probably use an HTTP client like requests to get the document behind the URL, and feed that document to Beautiful Soup.\n",
      "  ' that document to Beautiful Soup.' % decoded_markup\n",
      "/Users/user/anaconda3/lib/python3.6/site-packages/bs4/__init__.py:282: UserWarning: \"http://www.msnbc.msn.com/id/4972055/site/newsweek/\"\" looks like a URL. Beautiful Soup is not an HTTP client. You should probably use an HTTP client like requests to get the document behind the URL, and feed that document to Beautiful Soup.\n",
      "  ' that document to Beautiful Soup.' % decoded_markup\n",
      "/Users/user/anaconda3/lib/python3.6/site-packages/bs4/__init__.py:219: UserWarning: \"b'..'\" looks like a filename, not markup. You should probably open this file and pass the filehandle into Beautiful Soup.\n",
      "  ' Beautiful Soup.' % markup)\n",
      "/Users/user/anaconda3/lib/python3.6/site-packages/bs4/__init__.py:282: UserWarning: \"http://www.youtube.com/watch?v=a0KSqelmgN8\"\" looks like a URL. Beautiful Soup is not an HTTP client. You should probably use an HTTP client like requests to get the document behind the URL, and feed that document to Beautiful Soup.\n",
      "  ' that document to Beautiful Soup.' % decoded_markup\n",
      "/Users/user/anaconda3/lib/python3.6/site-packages/bs4/__init__.py:282: UserWarning: \"http://jake-weird.blogspot.com/2007/08/beneath.html\"\" looks like a URL. Beautiful Soup is not an HTTP client. You should probably use an HTTP client like requests to get the document behind the URL, and feed that document to Beautiful Soup.\n",
      "  ' that document to Beautiful Soup.' % decoded_markup\n"
     ]
    }
   ],
   "source": [
    "sentences = []  # Initialize an empty list of sentences\n",
    "\n",
    "print(\"Parsing sentences from training set\")\n",
    "for review in train[\"review\"]:\n",
    "    sentences += review_to_sentences(review, tokenizer)\n",
    "\n",
    "print(\"Parsing sentences from unlabeled set\")\n",
    "for review in unlabeled_train[\"review\"]:\n",
    "    sentences += review_to_sentences(review, tokenizer)"
   ]
  },
  {
   "cell_type": "code",
   "execution_count": 5,
   "metadata": {},
   "outputs": [
    {
     "name": "stdout",
     "output_type": "stream",
     "text": [
      "795538\n"
     ]
    }
   ],
   "source": [
    "print(len(sentences))"
   ]
  },
  {
   "cell_type": "code",
   "execution_count": 6,
   "metadata": {},
   "outputs": [
    {
     "name": "stdout",
     "output_type": "stream",
     "text": [
      "['with', 'all', 'this', 'stuff', 'going', 'down', 'at', 'the', 'moment', 'with', 'mj', 'i', 've', 'started', 'listening', 'to', 'his', 'music', 'watching', 'the', 'odd', 'documentary', 'here', 'and', 'there', 'watched', 'the', 'wiz', 'and', 'watched', 'moonwalker', 'again']\n"
     ]
    }
   ],
   "source": [
    "print(sentences[0])"
   ]
  },
  {
   "cell_type": "markdown",
   "metadata": {},
   "source": [
    "## Training and Saving Your Model\n",
    "\n",
    "_**word2vec option**_ (일부)\n",
    "\n",
    "* **Architecture** - skip-gram(default) / continuous 선택 가능. skip-gram 약간 느리지만 더 좋은 결과가 나옴\n",
    "* **Training algorithm** - Hierarchical softmax (Default) / Negative sampling. 기본이 더 좋은 결과가 나옴\n",
    "* **Downsampling of frequent words:** - 구글 문서에서는 .00001과 .001 사이의 값을 추천한다.  마지막 모델에서 0.001일 때 정확도가 가장 증가했다.\n",
    "* **Word vector dimensionality** - 많은 Feature 결과는 더 많은 시간이 든다. \n",
    "* **Context / window size:** - How many words of context should the training algorithm take into account? 10 seems to work well for hierarchical softmax (more is better, up to a point).\n",
    "* **Worker threads** - 병렬 프로세스의 숫자. This is computer-specific, but between 4 and 6 should work on most systems.\n",
    "* **Minimum word count** - 이것은 단어의 크기를 의미 있는 단어로 제한하는 데 도움을 준다. 10~100 사이의 숫자가 합리적. 영화 제목에 너무 중요성을 두는 것을 피하기 위해  우리는 최소 가운트를 40으로 설정했다. 총 단어 크기가 15,000단어 정도가 되는 결과를 가져왔다. 값이 높을수록 실행 시간을 제한하는 데 도움이 됩니다.\n",
    "\n",
    "[API Documentation](http://radimrehurek.com/gensim/models/word2vec.html) \n",
    "\n",
    "[Google Documentation](https://code.google.com/archive/p/word2vec/)\n",
    "\n"
   ]
  },
  {
   "cell_type": "code",
   "execution_count": 8,
   "metadata": {},
   "outputs": [
    {
     "name": "stderr",
     "output_type": "stream",
     "text": [
      "2018-02-03 13:33:27,074 : INFO : 'pattern' package not found; tag filters are not available for English\n",
      "2018-02-03 13:33:27,081 : INFO : collecting all words and their counts\n",
      "2018-02-03 13:33:27,083 : INFO : PROGRESS: at sentence #0, processed 0 words, keeping 0 word types\n",
      "2018-02-03 13:33:27,161 : INFO : PROGRESS: at sentence #10000, processed 225803 words, keeping 17776 word types\n",
      "2018-02-03 13:33:27,231 : INFO : PROGRESS: at sentence #20000, processed 451892 words, keeping 24948 word types\n"
     ]
    },
    {
     "name": "stdout",
     "output_type": "stream",
     "text": [
      "Training model...\n"
     ]
    },
    {
     "name": "stderr",
     "output_type": "stream",
     "text": [
      "2018-02-03 13:33:27,303 : INFO : PROGRESS: at sentence #30000, processed 671315 words, keeping 30034 word types\n",
      "2018-02-03 13:33:27,380 : INFO : PROGRESS: at sentence #40000, processed 897815 words, keeping 34348 word types\n",
      "2018-02-03 13:33:27,448 : INFO : PROGRESS: at sentence #50000, processed 1116963 words, keeping 37761 word types\n",
      "2018-02-03 13:33:27,515 : INFO : PROGRESS: at sentence #60000, processed 1338404 words, keeping 40723 word types\n",
      "2018-02-03 13:33:27,585 : INFO : PROGRESS: at sentence #70000, processed 1561580 words, keeping 43333 word types\n",
      "2018-02-03 13:33:27,650 : INFO : PROGRESS: at sentence #80000, processed 1780887 words, keeping 45714 word types\n",
      "2018-02-03 13:33:27,721 : INFO : PROGRESS: at sentence #90000, processed 2004996 words, keeping 48135 word types\n",
      "2018-02-03 13:33:27,789 : INFO : PROGRESS: at sentence #100000, processed 2226966 words, keeping 50207 word types\n",
      "2018-02-03 13:33:27,860 : INFO : PROGRESS: at sentence #110000, processed 2446580 words, keeping 52081 word types\n",
      "2018-02-03 13:33:27,928 : INFO : PROGRESS: at sentence #120000, processed 2668775 words, keeping 54119 word types\n",
      "2018-02-03 13:33:27,996 : INFO : PROGRESS: at sentence #130000, processed 2894303 words, keeping 55847 word types\n",
      "2018-02-03 13:33:28,067 : INFO : PROGRESS: at sentence #140000, processed 3107005 words, keeping 57346 word types\n",
      "2018-02-03 13:33:28,136 : INFO : PROGRESS: at sentence #150000, processed 3332627 words, keeping 59055 word types\n",
      "2018-02-03 13:33:28,204 : INFO : PROGRESS: at sentence #160000, processed 3555315 words, keeping 60617 word types\n",
      "2018-02-03 13:33:28,272 : INFO : PROGRESS: at sentence #170000, processed 3778655 words, keeping 62077 word types\n",
      "2018-02-03 13:33:28,338 : INFO : PROGRESS: at sentence #180000, processed 3999236 words, keeping 63496 word types\n",
      "2018-02-03 13:33:28,404 : INFO : PROGRESS: at sentence #190000, processed 4224449 words, keeping 64794 word types\n",
      "2018-02-03 13:33:28,483 : INFO : PROGRESS: at sentence #200000, processed 4448603 words, keeping 66087 word types\n",
      "2018-02-03 13:33:28,551 : INFO : PROGRESS: at sentence #210000, processed 4669967 words, keeping 67390 word types\n",
      "2018-02-03 13:33:28,617 : INFO : PROGRESS: at sentence #220000, processed 4894968 words, keeping 68697 word types\n",
      "2018-02-03 13:33:28,686 : INFO : PROGRESS: at sentence #230000, processed 5117545 words, keeping 69958 word types\n",
      "2018-02-03 13:33:28,757 : INFO : PROGRESS: at sentence #240000, processed 5345050 words, keeping 71167 word types\n",
      "2018-02-03 13:33:28,827 : INFO : PROGRESS: at sentence #250000, processed 5559165 words, keeping 72351 word types\n",
      "2018-02-03 13:33:28,899 : INFO : PROGRESS: at sentence #260000, processed 5779146 words, keeping 73478 word types\n",
      "2018-02-03 13:33:28,969 : INFO : PROGRESS: at sentence #270000, processed 6000435 words, keeping 74767 word types\n",
      "2018-02-03 13:33:29,040 : INFO : PROGRESS: at sentence #280000, processed 6226314 words, keeping 76369 word types\n",
      "2018-02-03 13:33:29,116 : INFO : PROGRESS: at sentence #290000, processed 6449474 words, keeping 77839 word types\n",
      "2018-02-03 13:33:29,182 : INFO : PROGRESS: at sentence #300000, processed 6674077 words, keeping 79171 word types\n",
      "2018-02-03 13:33:29,257 : INFO : PROGRESS: at sentence #310000, processed 6899391 words, keeping 80480 word types\n",
      "2018-02-03 13:33:29,320 : INFO : PROGRESS: at sentence #320000, processed 7124278 words, keeping 81808 word types\n",
      "2018-02-03 13:33:29,389 : INFO : PROGRESS: at sentence #330000, processed 7346021 words, keeping 83030 word types\n",
      "2018-02-03 13:33:29,456 : INFO : PROGRESS: at sentence #340000, processed 7575533 words, keeping 84280 word types\n",
      "2018-02-03 13:33:29,514 : INFO : PROGRESS: at sentence #350000, processed 7798803 words, keeping 85425 word types\n",
      "2018-02-03 13:33:29,582 : INFO : PROGRESS: at sentence #360000, processed 8019427 words, keeping 86596 word types\n",
      "2018-02-03 13:33:29,668 : INFO : PROGRESS: at sentence #370000, processed 8246619 words, keeping 87708 word types\n",
      "2018-02-03 13:33:29,735 : INFO : PROGRESS: at sentence #380000, processed 8471766 words, keeping 88878 word types\n",
      "2018-02-03 13:33:29,805 : INFO : PROGRESS: at sentence #390000, processed 8701497 words, keeping 89907 word types\n",
      "2018-02-03 13:33:29,870 : INFO : PROGRESS: at sentence #400000, processed 8924446 words, keeping 90916 word types\n",
      "2018-02-03 13:33:29,938 : INFO : PROGRESS: at sentence #410000, processed 9145796 words, keeping 91880 word types\n",
      "2018-02-03 13:33:30,013 : INFO : PROGRESS: at sentence #420000, processed 9366876 words, keeping 92912 word types\n",
      "2018-02-03 13:33:30,085 : INFO : PROGRESS: at sentence #430000, processed 9594413 words, keeping 93932 word types\n",
      "2018-02-03 13:33:30,152 : INFO : PROGRESS: at sentence #440000, processed 9821166 words, keeping 94906 word types\n",
      "2018-02-03 13:33:30,217 : INFO : PROGRESS: at sentence #450000, processed 10044928 words, keeping 96036 word types\n",
      "2018-02-03 13:33:30,295 : INFO : PROGRESS: at sentence #460000, processed 10277688 words, keeping 97088 word types\n",
      "2018-02-03 13:33:30,362 : INFO : PROGRESS: at sentence #470000, processed 10505613 words, keeping 97933 word types\n",
      "2018-02-03 13:33:30,430 : INFO : PROGRESS: at sentence #480000, processed 10725997 words, keeping 98862 word types\n",
      "2018-02-03 13:33:30,494 : INFO : PROGRESS: at sentence #490000, processed 10952741 words, keeping 99871 word types\n",
      "2018-02-03 13:33:30,561 : INFO : PROGRESS: at sentence #500000, processed 11174397 words, keeping 100765 word types\n",
      "2018-02-03 13:33:30,624 : INFO : PROGRESS: at sentence #510000, processed 11399672 words, keeping 101699 word types\n",
      "2018-02-03 13:33:30,693 : INFO : PROGRESS: at sentence #520000, processed 11623020 words, keeping 102598 word types\n",
      "2018-02-03 13:33:30,760 : INFO : PROGRESS: at sentence #530000, processed 11847418 words, keeping 103400 word types\n",
      "2018-02-03 13:33:30,822 : INFO : PROGRESS: at sentence #540000, processed 12072033 words, keeping 104265 word types\n",
      "2018-02-03 13:33:30,893 : INFO : PROGRESS: at sentence #550000, processed 12297571 words, keeping 105133 word types\n",
      "2018-02-03 13:33:30,961 : INFO : PROGRESS: at sentence #560000, processed 12518861 words, keeping 105997 word types\n",
      "2018-02-03 13:33:31,026 : INFO : PROGRESS: at sentence #570000, processed 12747916 words, keeping 106787 word types\n",
      "2018-02-03 13:33:31,110 : INFO : PROGRESS: at sentence #580000, processed 12969412 words, keeping 107665 word types\n",
      "2018-02-03 13:33:31,190 : INFO : PROGRESS: at sentence #590000, processed 13194937 words, keeping 108501 word types\n",
      "2018-02-03 13:33:31,262 : INFO : PROGRESS: at sentence #600000, processed 13417135 words, keeping 109218 word types\n",
      "2018-02-03 13:33:31,332 : INFO : PROGRESS: at sentence #610000, processed 13638158 words, keeping 110092 word types\n",
      "2018-02-03 13:33:31,397 : INFO : PROGRESS: at sentence #620000, processed 13864483 words, keeping 110837 word types\n",
      "2018-02-03 13:33:31,466 : INFO : PROGRESS: at sentence #630000, processed 14088769 words, keeping 111610 word types\n",
      "2018-02-03 13:33:31,534 : INFO : PROGRESS: at sentence #640000, processed 14309552 words, keeping 112416 word types\n",
      "2018-02-03 13:33:31,602 : INFO : PROGRESS: at sentence #650000, processed 14535308 words, keeping 113196 word types\n",
      "2018-02-03 13:33:31,665 : INFO : PROGRESS: at sentence #660000, processed 14758098 words, keeping 113945 word types\n",
      "2018-02-03 13:33:31,729 : INFO : PROGRESS: at sentence #670000, processed 14981482 words, keeping 114643 word types\n",
      "2018-02-03 13:33:31,789 : INFO : PROGRESS: at sentence #680000, processed 15206314 words, keeping 115354 word types\n",
      "2018-02-03 13:33:31,849 : INFO : PROGRESS: at sentence #690000, processed 15428507 words, keeping 116131 word types\n",
      "2018-02-03 13:33:31,910 : INFO : PROGRESS: at sentence #700000, processed 15657213 words, keeping 116943 word types\n",
      "2018-02-03 13:33:31,987 : INFO : PROGRESS: at sentence #710000, processed 15880202 words, keeping 117596 word types\n",
      "2018-02-03 13:33:32,059 : INFO : PROGRESS: at sentence #720000, processed 16105489 words, keeping 118221 word types\n",
      "2018-02-03 13:33:32,167 : INFO : PROGRESS: at sentence #730000, processed 16331870 words, keeping 118954 word types\n",
      "2018-02-03 13:33:32,260 : INFO : PROGRESS: at sentence #740000, processed 16552903 words, keeping 119668 word types\n"
     ]
    },
    {
     "name": "stderr",
     "output_type": "stream",
     "text": [
      "2018-02-03 13:33:32,324 : INFO : PROGRESS: at sentence #750000, processed 16771230 words, keeping 120295 word types\n",
      "2018-02-03 13:33:32,387 : INFO : PROGRESS: at sentence #760000, processed 16990622 words, keeping 120930 word types\n",
      "2018-02-03 13:33:32,455 : INFO : PROGRESS: at sentence #770000, processed 17217759 words, keeping 121703 word types\n",
      "2018-02-03 13:33:32,520 : INFO : PROGRESS: at sentence #780000, processed 17447905 words, keeping 122402 word types\n",
      "2018-02-03 13:33:32,584 : INFO : PROGRESS: at sentence #790000, processed 17674981 words, keeping 123066 word types\n",
      "2018-02-03 13:33:32,624 : INFO : collected 123504 word types from a corpus of 17798082 raw words and 795538 sentences\n",
      "2018-02-03 13:33:32,626 : INFO : Loading a fresh vocabulary\n",
      "2018-02-03 13:33:32,726 : INFO : min_count=40 retains 16490 unique words (13% of original 123504, drops 107014)\n",
      "2018-02-03 13:33:32,727 : INFO : min_count=40 leaves 17238940 word corpus (96% of original 17798082, drops 559142)\n",
      "2018-02-03 13:33:32,786 : INFO : deleting the raw counts dictionary of 123504 items\n",
      "2018-02-03 13:33:32,795 : INFO : sample=0.001 downsamples 48 most-common words\n",
      "2018-02-03 13:33:32,798 : INFO : downsampling leaves estimated 12749658 word corpus (74.0% of prior 17238940)\n",
      "2018-02-03 13:33:32,868 : INFO : estimated required memory for 16490 words and 300 dimensions: 47821000 bytes\n",
      "2018-02-03 13:33:32,870 : INFO : resetting layer weights\n",
      "2018-02-03 13:33:33,149 : INFO : training model with 4 workers on 16490 vocabulary and 300 features, using sg=0 hs=0 sample=0.001 negative=5 window=10\n",
      "2018-02-03 13:33:34,158 : INFO : EPOCH 1 - PROGRESS: at 4.70% examples, 600746 words/s, in_qsize 7, out_qsize 0\n",
      "2018-02-03 13:33:35,159 : INFO : EPOCH 1 - PROGRESS: at 9.81% examples, 621979 words/s, in_qsize 7, out_qsize 0\n",
      "2018-02-03 13:33:36,161 : INFO : EPOCH 1 - PROGRESS: at 14.83% examples, 626701 words/s, in_qsize 8, out_qsize 0\n",
      "2018-02-03 13:33:37,163 : INFO : EPOCH 1 - PROGRESS: at 20.00% examples, 632244 words/s, in_qsize 7, out_qsize 0\n",
      "2018-02-03 13:33:38,170 : INFO : EPOCH 1 - PROGRESS: at 25.16% examples, 636676 words/s, in_qsize 7, out_qsize 0\n",
      "2018-02-03 13:33:39,175 : INFO : EPOCH 1 - PROGRESS: at 30.20% examples, 637098 words/s, in_qsize 8, out_qsize 0\n",
      "2018-02-03 13:33:40,183 : INFO : EPOCH 1 - PROGRESS: at 35.39% examples, 638237 words/s, in_qsize 8, out_qsize 0\n",
      "2018-02-03 13:33:41,186 : INFO : EPOCH 1 - PROGRESS: at 40.24% examples, 636118 words/s, in_qsize 7, out_qsize 0\n",
      "2018-02-03 13:33:42,188 : INFO : EPOCH 1 - PROGRESS: at 44.95% examples, 632092 words/s, in_qsize 7, out_qsize 0\n",
      "2018-02-03 13:33:43,194 : INFO : EPOCH 1 - PROGRESS: at 49.77% examples, 630777 words/s, in_qsize 7, out_qsize 0\n",
      "2018-02-03 13:33:44,200 : INFO : EPOCH 1 - PROGRESS: at 54.59% examples, 628904 words/s, in_qsize 7, out_qsize 0\n",
      "2018-02-03 13:33:45,212 : INFO : EPOCH 1 - PROGRESS: at 59.34% examples, 627124 words/s, in_qsize 7, out_qsize 0\n",
      "2018-02-03 13:33:46,217 : INFO : EPOCH 1 - PROGRESS: at 64.22% examples, 626523 words/s, in_qsize 7, out_qsize 0\n",
      "2018-02-03 13:33:47,223 : INFO : EPOCH 1 - PROGRESS: at 69.03% examples, 625474 words/s, in_qsize 7, out_qsize 0\n",
      "2018-02-03 13:33:48,227 : INFO : EPOCH 1 - PROGRESS: at 73.79% examples, 624154 words/s, in_qsize 7, out_qsize 0\n",
      "2018-02-03 13:33:49,246 : INFO : EPOCH 1 - PROGRESS: at 78.67% examples, 623250 words/s, in_qsize 7, out_qsize 0\n",
      "2018-02-03 13:33:50,252 : INFO : EPOCH 1 - PROGRESS: at 83.50% examples, 622551 words/s, in_qsize 7, out_qsize 0\n",
      "2018-02-03 13:33:51,257 : INFO : EPOCH 1 - PROGRESS: at 88.34% examples, 622368 words/s, in_qsize 7, out_qsize 0\n",
      "2018-02-03 13:33:52,259 : INFO : EPOCH 1 - PROGRESS: at 93.23% examples, 622305 words/s, in_qsize 7, out_qsize 0\n",
      "2018-02-03 13:33:53,269 : INFO : EPOCH 1 - PROGRESS: at 97.84% examples, 620213 words/s, in_qsize 6, out_qsize 1\n",
      "2018-02-03 13:33:53,704 : INFO : worker thread finished; awaiting finish of 3 more threads\n",
      "2018-02-03 13:33:53,709 : INFO : worker thread finished; awaiting finish of 2 more threads\n",
      "2018-02-03 13:33:53,720 : INFO : worker thread finished; awaiting finish of 1 more threads\n",
      "2018-02-03 13:33:53,731 : INFO : worker thread finished; awaiting finish of 0 more threads\n",
      "2018-02-03 13:33:53,732 : INFO : EPOCH - 1 : training on 17798082 raw words (12751565 effective words) took 20.6s, 619797 effective words/s\n",
      "2018-02-03 13:33:54,753 : INFO : EPOCH 2 - PROGRESS: at 4.70% examples, 593251 words/s, in_qsize 6, out_qsize 1\n",
      "2018-02-03 13:33:55,766 : INFO : EPOCH 2 - PROGRESS: at 9.75% examples, 610669 words/s, in_qsize 7, out_qsize 0\n",
      "2018-02-03 13:33:56,766 : INFO : EPOCH 2 - PROGRESS: at 14.67% examples, 614645 words/s, in_qsize 7, out_qsize 0\n",
      "2018-02-03 13:33:57,774 : INFO : EPOCH 2 - PROGRESS: at 19.60% examples, 615311 words/s, in_qsize 7, out_qsize 0\n",
      "2018-02-03 13:33:58,780 : INFO : EPOCH 2 - PROGRESS: at 24.27% examples, 610419 words/s, in_qsize 7, out_qsize 0\n",
      "2018-02-03 13:33:59,786 : INFO : EPOCH 2 - PROGRESS: at 29.15% examples, 611514 words/s, in_qsize 7, out_qsize 0\n",
      "2018-02-03 13:34:00,796 : INFO : EPOCH 2 - PROGRESS: at 34.22% examples, 614083 words/s, in_qsize 7, out_qsize 0\n",
      "2018-02-03 13:34:01,800 : INFO : EPOCH 2 - PROGRESS: at 39.07% examples, 614854 words/s, in_qsize 7, out_qsize 0\n",
      "2018-02-03 13:34:02,810 : INFO : EPOCH 2 - PROGRESS: at 44.04% examples, 616504 words/s, in_qsize 7, out_qsize 0\n",
      "2018-02-03 13:34:03,820 : INFO : EPOCH 2 - PROGRESS: at 48.77% examples, 615020 words/s, in_qsize 7, out_qsize 0\n",
      "2018-02-03 13:34:04,837 : INFO : EPOCH 2 - PROGRESS: at 53.78% examples, 616005 words/s, in_qsize 6, out_qsize 1\n",
      "2018-02-03 13:34:05,838 : INFO : EPOCH 2 - PROGRESS: at 58.68% examples, 617566 words/s, in_qsize 7, out_qsize 0\n",
      "2018-02-03 13:34:06,860 : INFO : EPOCH 2 - PROGRESS: at 63.72% examples, 618516 words/s, in_qsize 7, out_qsize 0\n",
      "2018-02-03 13:34:07,866 : INFO : EPOCH 2 - PROGRESS: at 68.78% examples, 620016 words/s, in_qsize 7, out_qsize 0\n",
      "2018-02-03 13:34:08,871 : INFO : EPOCH 2 - PROGRESS: at 73.79% examples, 621408 words/s, in_qsize 7, out_qsize 0\n",
      "2018-02-03 13:34:09,881 : INFO : EPOCH 2 - PROGRESS: at 78.84% examples, 622422 words/s, in_qsize 7, out_qsize 0\n",
      "2018-02-03 13:34:10,885 : INFO : EPOCH 2 - PROGRESS: at 83.89% examples, 623477 words/s, in_qsize 7, out_qsize 0\n",
      "2018-02-03 13:34:11,900 : INFO : EPOCH 2 - PROGRESS: at 88.98% examples, 624523 words/s, in_qsize 8, out_qsize 0\n",
      "2018-02-03 13:34:12,906 : INFO : EPOCH 2 - PROGRESS: at 94.10% examples, 625722 words/s, in_qsize 7, out_qsize 0\n",
      "2018-02-03 13:34:13,912 : INFO : EPOCH 2 - PROGRESS: at 98.89% examples, 625022 words/s, in_qsize 7, out_qsize 0\n",
      "2018-02-03 13:34:14,098 : INFO : worker thread finished; awaiting finish of 3 more threads\n",
      "2018-02-03 13:34:14,107 : INFO : worker thread finished; awaiting finish of 2 more threads\n",
      "2018-02-03 13:34:14,116 : INFO : worker thread finished; awaiting finish of 1 more threads\n",
      "2018-02-03 13:34:14,127 : INFO : worker thread finished; awaiting finish of 0 more threads\n",
      "2018-02-03 13:34:14,129 : INFO : EPOCH - 2 : training on 17798082 raw words (12748844 effective words) took 20.4s, 625326 effective words/s\n",
      "2018-02-03 13:34:15,155 : INFO : EPOCH 3 - PROGRESS: at 5.03% examples, 632883 words/s, in_qsize 7, out_qsize 0\n",
      "2018-02-03 13:34:16,171 : INFO : EPOCH 3 - PROGRESS: at 10.26% examples, 639877 words/s, in_qsize 7, out_qsize 0\n",
      "2018-02-03 13:34:17,176 : INFO : EPOCH 3 - PROGRESS: at 15.34% examples, 640209 words/s, in_qsize 8, out_qsize 0\n",
      "2018-02-03 13:34:18,185 : INFO : EPOCH 3 - PROGRESS: at 20.34% examples, 635983 words/s, in_qsize 7, out_qsize 0\n",
      "2018-02-03 13:34:19,193 : INFO : EPOCH 3 - PROGRESS: at 25.40% examples, 636603 words/s, in_qsize 7, out_qsize 0\n",
      "2018-02-03 13:34:20,200 : INFO : EPOCH 3 - PROGRESS: at 30.44% examples, 636929 words/s, in_qsize 7, out_qsize 0\n",
      "2018-02-03 13:34:21,207 : INFO : EPOCH 3 - PROGRESS: at 35.44% examples, 635082 words/s, in_qsize 7, out_qsize 0\n",
      "2018-02-03 13:34:22,207 : INFO : EPOCH 3 - PROGRESS: at 40.18% examples, 631774 words/s, in_qsize 7, out_qsize 0\n",
      "2018-02-03 13:34:23,215 : INFO : EPOCH 3 - PROGRESS: at 45.01% examples, 629421 words/s, in_qsize 7, out_qsize 0\n",
      "2018-02-03 13:34:24,221 : INFO : EPOCH 3 - PROGRESS: at 49.55% examples, 624711 words/s, in_qsize 6, out_qsize 1\n"
     ]
    },
    {
     "name": "stderr",
     "output_type": "stream",
     "text": [
      "2018-02-03 13:34:25,232 : INFO : EPOCH 3 - PROGRESS: at 53.93% examples, 618049 words/s, in_qsize 7, out_qsize 0\n",
      "2018-02-03 13:34:26,233 : INFO : EPOCH 3 - PROGRESS: at 58.74% examples, 618354 words/s, in_qsize 7, out_qsize 0\n",
      "2018-02-03 13:34:27,245 : INFO : EPOCH 3 - PROGRESS: at 63.73% examples, 619152 words/s, in_qsize 8, out_qsize 0\n",
      "2018-02-03 13:34:28,252 : INFO : EPOCH 3 - PROGRESS: at 68.55% examples, 618567 words/s, in_qsize 7, out_qsize 0\n",
      "2018-02-03 13:34:29,252 : INFO : EPOCH 3 - PROGRESS: at 73.39% examples, 618832 words/s, in_qsize 7, out_qsize 0\n",
      "2018-02-03 13:34:30,259 : INFO : EPOCH 3 - PROGRESS: at 78.49% examples, 620536 words/s, in_qsize 7, out_qsize 0\n",
      "2018-02-03 13:34:31,280 : INFO : EPOCH 3 - PROGRESS: at 83.62% examples, 621523 words/s, in_qsize 7, out_qsize 0\n",
      "2018-02-03 13:34:32,291 : INFO : EPOCH 3 - PROGRESS: at 88.58% examples, 621936 words/s, in_qsize 8, out_qsize 0\n",
      "2018-02-03 13:34:33,300 : INFO : EPOCH 3 - PROGRESS: at 93.51% examples, 622024 words/s, in_qsize 7, out_qsize 0\n",
      "2018-02-03 13:34:34,311 : INFO : EPOCH 3 - PROGRESS: at 98.34% examples, 621358 words/s, in_qsize 7, out_qsize 0\n",
      "2018-02-03 13:34:34,609 : INFO : worker thread finished; awaiting finish of 3 more threads\n",
      "2018-02-03 13:34:34,627 : INFO : worker thread finished; awaiting finish of 2 more threads\n",
      "2018-02-03 13:34:34,635 : INFO : worker thread finished; awaiting finish of 1 more threads\n",
      "2018-02-03 13:34:34,641 : INFO : worker thread finished; awaiting finish of 0 more threads\n",
      "2018-02-03 13:34:34,642 : INFO : EPOCH - 3 : training on 17798082 raw words (12748605 effective words) took 20.5s, 621759 effective words/s\n",
      "2018-02-03 13:34:35,653 : INFO : EPOCH 4 - PROGRESS: at 4.64% examples, 592708 words/s, in_qsize 7, out_qsize 0\n",
      "2018-02-03 13:34:36,657 : INFO : EPOCH 4 - PROGRESS: at 9.75% examples, 616499 words/s, in_qsize 7, out_qsize 0\n",
      "2018-02-03 13:34:37,662 : INFO : EPOCH 4 - PROGRESS: at 14.72% examples, 620042 words/s, in_qsize 7, out_qsize 0\n",
      "2018-02-03 13:34:38,663 : INFO : EPOCH 4 - PROGRESS: at 19.81% examples, 625655 words/s, in_qsize 7, out_qsize 0\n",
      "2018-02-03 13:34:39,671 : INFO : EPOCH 4 - PROGRESS: at 24.78% examples, 625578 words/s, in_qsize 7, out_qsize 0\n",
      "2018-02-03 13:34:40,674 : INFO : EPOCH 4 - PROGRESS: at 29.76% examples, 626877 words/s, in_qsize 7, out_qsize 0\n",
      "2018-02-03 13:34:41,684 : INFO : EPOCH 4 - PROGRESS: at 34.82% examples, 627180 words/s, in_qsize 6, out_qsize 1\n",
      "2018-02-03 13:34:42,692 : INFO : EPOCH 4 - PROGRESS: at 39.75% examples, 626883 words/s, in_qsize 7, out_qsize 0\n",
      "2018-02-03 13:34:43,698 : INFO : EPOCH 4 - PROGRESS: at 44.68% examples, 626730 words/s, in_qsize 7, out_qsize 0\n",
      "2018-02-03 13:34:44,699 : INFO : EPOCH 4 - PROGRESS: at 49.66% examples, 628359 words/s, in_qsize 8, out_qsize 0\n",
      "2018-02-03 13:34:45,699 : INFO : EPOCH 4 - PROGRESS: at 54.37% examples, 625852 words/s, in_qsize 8, out_qsize 0\n",
      "2018-02-03 13:34:46,701 : INFO : EPOCH 4 - PROGRESS: at 59.28% examples, 626537 words/s, in_qsize 7, out_qsize 0\n",
      "2018-02-03 13:34:47,723 : INFO : EPOCH 4 - PROGRESS: at 64.17% examples, 625187 words/s, in_qsize 7, out_qsize 0\n",
      "2018-02-03 13:34:48,738 : INFO : EPOCH 4 - PROGRESS: at 69.09% examples, 624855 words/s, in_qsize 7, out_qsize 0\n",
      "2018-02-03 13:34:49,738 : INFO : EPOCH 4 - PROGRESS: at 74.07% examples, 625628 words/s, in_qsize 7, out_qsize 0\n",
      "2018-02-03 13:34:50,749 : INFO : EPOCH 4 - PROGRESS: at 79.06% examples, 625883 words/s, in_qsize 8, out_qsize 0\n",
      "2018-02-03 13:34:51,761 : INFO : EPOCH 4 - PROGRESS: at 84.17% examples, 626886 words/s, in_qsize 8, out_qsize 0\n",
      "2018-02-03 13:34:52,765 : INFO : EPOCH 4 - PROGRESS: at 89.15% examples, 627290 words/s, in_qsize 8, out_qsize 0\n",
      "2018-02-03 13:34:53,772 : INFO : EPOCH 4 - PROGRESS: at 93.74% examples, 624907 words/s, in_qsize 7, out_qsize 0\n",
      "2018-02-03 13:34:54,777 : INFO : EPOCH 4 - PROGRESS: at 98.61% examples, 624638 words/s, in_qsize 8, out_qsize 0\n",
      "2018-02-03 13:34:55,060 : INFO : worker thread finished; awaiting finish of 3 more threads\n",
      "2018-02-03 13:34:55,066 : INFO : worker thread finished; awaiting finish of 2 more threads\n",
      "2018-02-03 13:34:55,081 : INFO : worker thread finished; awaiting finish of 1 more threads\n",
      "2018-02-03 13:34:55,095 : INFO : worker thread finished; awaiting finish of 0 more threads\n",
      "2018-02-03 13:34:55,097 : INFO : EPOCH - 4 : training on 17798082 raw words (12749734 effective words) took 20.4s, 623560 effective words/s\n",
      "2018-02-03 13:34:56,115 : INFO : EPOCH 5 - PROGRESS: at 4.81% examples, 610973 words/s, in_qsize 7, out_qsize 0\n",
      "2018-02-03 13:34:57,119 : INFO : EPOCH 5 - PROGRESS: at 9.62% examples, 608112 words/s, in_qsize 7, out_qsize 0\n",
      "2018-02-03 13:34:58,122 : INFO : EPOCH 5 - PROGRESS: at 14.67% examples, 617068 words/s, in_qsize 7, out_qsize 0\n",
      "2018-02-03 13:34:59,128 : INFO : EPOCH 5 - PROGRESS: at 19.65% examples, 619054 words/s, in_qsize 7, out_qsize 0\n",
      "2018-02-03 13:35:00,137 : INFO : EPOCH 5 - PROGRESS: at 24.67% examples, 621461 words/s, in_qsize 7, out_qsize 0\n",
      "2018-02-03 13:35:01,143 : INFO : EPOCH 5 - PROGRESS: at 29.64% examples, 623250 words/s, in_qsize 7, out_qsize 0\n",
      "2018-02-03 13:35:02,150 : INFO : EPOCH 5 - PROGRESS: at 34.82% examples, 626408 words/s, in_qsize 7, out_qsize 0\n",
      "2018-02-03 13:35:03,157 : INFO : EPOCH 5 - PROGRESS: at 39.90% examples, 628907 words/s, in_qsize 8, out_qsize 0\n",
      "2018-02-03 13:35:04,163 : INFO : EPOCH 5 - PROGRESS: at 44.89% examples, 629429 words/s, in_qsize 7, out_qsize 0\n",
      "2018-02-03 13:35:05,172 : INFO : EPOCH 5 - PROGRESS: at 49.83% examples, 629554 words/s, in_qsize 8, out_qsize 0\n",
      "2018-02-03 13:35:06,182 : INFO : EPOCH 5 - PROGRESS: at 54.87% examples, 630252 words/s, in_qsize 7, out_qsize 0\n",
      "2018-02-03 13:35:07,191 : INFO : EPOCH 5 - PROGRESS: at 59.55% examples, 627913 words/s, in_qsize 7, out_qsize 0\n",
      "2018-02-03 13:35:08,194 : INFO : EPOCH 5 - PROGRESS: at 64.56% examples, 628403 words/s, in_qsize 7, out_qsize 0\n",
      "2018-02-03 13:35:09,204 : INFO : EPOCH 5 - PROGRESS: at 69.48% examples, 628023 words/s, in_qsize 7, out_qsize 0\n",
      "2018-02-03 13:35:10,205 : INFO : EPOCH 5 - PROGRESS: at 74.34% examples, 627638 words/s, in_qsize 7, out_qsize 0\n",
      "2018-02-03 13:35:11,208 : INFO : EPOCH 5 - PROGRESS: at 79.29% examples, 627608 words/s, in_qsize 7, out_qsize 0\n",
      "2018-02-03 13:35:12,221 : INFO : EPOCH 5 - PROGRESS: at 84.28% examples, 627648 words/s, in_qsize 7, out_qsize 0\n",
      "2018-02-03 13:35:13,246 : INFO : EPOCH 5 - PROGRESS: at 89.26% examples, 627306 words/s, in_qsize 7, out_qsize 0\n",
      "2018-02-03 13:35:14,248 : INFO : EPOCH 5 - PROGRESS: at 94.21% examples, 627349 words/s, in_qsize 8, out_qsize 1\n",
      "2018-02-03 13:35:15,258 : INFO : EPOCH 5 - PROGRESS: at 99.33% examples, 628592 words/s, in_qsize 7, out_qsize 0\n",
      "2018-02-03 13:35:15,365 : INFO : worker thread finished; awaiting finish of 3 more threads\n",
      "2018-02-03 13:35:15,367 : INFO : worker thread finished; awaiting finish of 2 more threads\n",
      "2018-02-03 13:35:15,372 : INFO : worker thread finished; awaiting finish of 1 more threads\n",
      "2018-02-03 13:35:15,386 : INFO : worker thread finished; awaiting finish of 0 more threads\n",
      "2018-02-03 13:35:15,387 : INFO : EPOCH - 5 : training on 17798082 raw words (12751180 effective words) took 20.3s, 628781 effective words/s\n",
      "2018-02-03 13:35:15,389 : INFO : training on a 88990410 raw words (63749928 effective words) took 102.2s, 623562 effective words/s\n",
      "2018-02-03 13:35:15,392 : INFO : precomputing L2-norms of word weight vectors\n",
      "2018-02-03 13:35:15,554 : INFO : saving Word2Vec object under 300features_40minwords_10context, separately None\n",
      "2018-02-03 13:35:15,556 : INFO : not storing attribute vectors_norm\n",
      "2018-02-03 13:35:15,558 : INFO : not storing attribute cum_table\n",
      "2018-02-03 13:35:16,297 : INFO : saved 300features_40minwords_10context\n"
     ]
    }
   ],
   "source": [
    "# Import the built-in logging module and configure it so that Word2Vec \n",
    "# creates nice output messages\n",
    "import logging\n",
    "logging.basicConfig(format='%(asctime)s : %(levelname)s : %(message)s',\\\n",
    "    level=logging.INFO)\n",
    "\n",
    "# Set values for various parameters\n",
    "num_features = 300    # Word vector dimensionality                      \n",
    "min_word_count = 40   # Minimum word count                        \n",
    "num_workers = 4       # Number of threads to run in parallel\n",
    "context = 10          # Context window size                                                                                    \n",
    "downsampling = 1e-3   # Downsample setting for frequent words\n",
    "\n",
    "# Initialize and train the model (this will take some time)\n",
    "from gensim.models import word2vec\n",
    "print(\"Training model...\")\n",
    "model = word2vec.word2vec(sentences, workers=num_workers, \\\n",
    "            size=num_features, min_count = min_word_count, \\\n",
    "            window = context, sample = downsampling)\n",
    "\n",
    "# If you don't plan to train the model any further, calling \n",
    "# init_sims will make the model much more memory-efficient.\n",
    "model.init_sims(replace=True)\n",
    "\n",
    "# It can be helpful to create a meaningful model name and \n",
    "# save the model for later use. You can load it later using Word2Vec.load()\n",
    "model_name = \"300features_40minwords_10context\"\n",
    "model.save(model_name)"
   ]
  },
  {
   "cell_type": "markdown",
   "metadata": {},
   "source": [
    "## Exploring the Model Results"
   ]
  },
  {
   "cell_type": "markdown",
   "metadata": {},
   "source": [
    "self.doesnt_match는 리스트에서 가장 유사성이 없는 한 단어를 추정한다\n",
    "\n",
    "* Tutorial에서 사용된 이 메소드는 4.0.0에서 삭제될 예정 - Deprecated\n",
    "* self.wv.doesnt_match를 사용하였음\n",
    "\n",
    "self.mv.most_similar(word) 는 가장 word와 유사한 단어들를 알려준다 "
   ]
  },
  {
   "cell_type": "code",
   "execution_count": 16,
   "metadata": {},
   "outputs": [
    {
     "data": {
      "text/plain": [
       "'kitchen'"
      ]
     },
     "execution_count": 16,
     "metadata": {},
     "output_type": "execute_result"
    }
   ],
   "source": [
    "#model.doesnt_match(\"man woman child kitchen\".split())\n",
    "\n",
    "model.wv.doesnt_match(\"man woman child kitchen\".split())"
   ]
  },
  {
   "cell_type": "code",
   "execution_count": 19,
   "metadata": {},
   "outputs": [
    {
     "name": "stdout",
     "output_type": "stream",
     "text": [
      "berlin\n",
      "paris\n"
     ]
    }
   ],
   "source": [
    "# 이 기능은 완벽하지 않다. 순서에 따라 다른 결과 값을 가져오기도 하는듯.\n",
    "print(model.wv.doesnt_match(\"france england germany berlin\".split()))\n",
    "print(model.wv.doesnt_match(\"paris berlin london austria\".split()))"
   ]
  },
  {
   "cell_type": "code",
   "execution_count": 22,
   "metadata": {},
   "outputs": [
    {
     "name": "stdout",
     "output_type": "stream",
     "text": [
      "[('woman', 0.6187256574630737), ('lady', 0.5952473282814026), ('lad', 0.5658622980117798), ('monk', 0.5415423512458801), ('guy', 0.51703941822052), ('farmer', 0.5104525685310364), ('millionaire', 0.5098761320114136), ('businessman', 0.508300244808197), ('person', 0.5068169236183167), ('soldier', 0.5051417946815491)]\n",
      "[('princess', 0.6983469724655151), ('bride', 0.6543586850166321), ('stepmother', 0.636001706123352), ('mistress', 0.6315175294876099), ('eva', 0.613583505153656), ('duchess', 0.6083515882492065), ('victoria', 0.6081218719482422), ('latifah', 0.6049017906188965), ('maria', 0.6001386046409607), ('regina', 0.5974386930465698)]\n",
      "[('woman', 0.6187256574630737), ('lady', 0.5952473282814026), ('lad', 0.5658622980117798), ('monk', 0.5415423512458801), ('guy', 0.51703941822052), ('farmer', 0.5104525685310364), ('millionaire', 0.5098761320114136), ('businessman', 0.508300244808197), ('person', 0.5068169236183167), ('soldier', 0.5051417946815491)]\n"
     ]
    }
   ],
   "source": [
    "print(model.wv.most_similar(\"man\"))\n",
    "print(model.wv.most_similar(\"queen\"))\n",
    "print(model.wv.most_similar(\"man\"))"
   ]
  },
  {
   "cell_type": "code",
   "execution_count": 25,
   "metadata": {},
   "outputs": [
    {
     "name": "stdout",
     "output_type": "stream",
     "text": [
      "[('terrible', 0.7589613199234009), ('horrible', 0.7428545355796814), ('dreadful', 0.7264014482498169), ('abysmal', 0.7125990390777588), ('atrocious', 0.710379421710968), ('horrendous', 0.6810494661331177), ('horrid', 0.6743164658546448), ('appalling', 0.6556950807571411), ('laughable', 0.6128154397010803), ('lousy', 0.6054826974868774)]\n"
     ]
    }
   ],
   "source": [
    "print(model.wv.most_similar(\"awful\"))"
   ]
  },
  {
   "cell_type": "code",
   "execution_count": null,
   "metadata": {
    "collapsed": true
   },
   "outputs": [],
   "source": []
  }
 ],
 "metadata": {
  "kernelspec": {
   "display_name": "Python 3",
   "language": "python",
   "name": "python3"
  },
  "language_info": {
   "codemirror_mode": {
    "name": "ipython",
    "version": 3
   },
   "file_extension": ".py",
   "mimetype": "text/x-python",
   "name": "python",
   "nbconvert_exporter": "python",
   "pygments_lexer": "ipython3",
   "version": "3.6.3"
  }
 },
 "nbformat": 4,
 "nbformat_minor": 2
}
